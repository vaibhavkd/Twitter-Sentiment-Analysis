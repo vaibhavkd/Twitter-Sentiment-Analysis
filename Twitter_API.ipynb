{
 "cells": [
  {
   "cell_type": "markdown",
   "metadata": {},
   "source": [
    "# Tweepy An easy-to-use Python library for accessing the Twitter API."
   ]
  },
  {
   "cell_type": "code",
   "execution_count": 1,
   "metadata": {},
   "outputs": [],
   "source": [
    "import tweepy"
   ]
  },
  {
   "cell_type": "markdown",
   "metadata": {},
   "source": [
    "# TextBlob is a Python (2 and 3) library for processing textual data. "
   ]
  },
  {
   "cell_type": "markdown",
   "metadata": {},
   "source": [
    "It provides a simple API for diving into common natural language processing (NLP) tasks such as part-of-speech tagging, noun phrase extraction, sentiment analysis, classification, translation, and more."
   ]
  },
  {
   "cell_type": "code",
   "execution_count": 2,
   "metadata": {},
   "outputs": [],
   "source": [
    "import textblob as tb"
   ]
  },
  {
   "cell_type": "markdown",
   "metadata": {},
   "source": [
    "# Polarity"
   ]
  },
  {
   "cell_type": "markdown",
   "metadata": {},
   "source": [
    "Polarity is a float value within the range [-1.0 to 1.0] where 0 indicates neutral, \n",
    "+1 indicates a very positive sentiment and -1 represents a very negative sentiment."
   ]
  },
  {
   "cell_type": "markdown",
   "metadata": {},
   "source": [
    "# Subjectivity\n",
    "\n"
   ]
  },
  {
   "cell_type": "markdown",
   "metadata": {},
   "source": [
    "Subjectivity is a float value within the range [0.0 to 1.0] where 0.0 is very objective \n",
    "and 1.0 is very subjective. Subjective sentence expresses some \n",
    "personal feelings, views, beliefs, opinions, allegations, desires, beliefs, suspicions, and \n",
    "speculations where as Objective sentences are factual."
   ]
  },
  {
   "cell_type": "markdown",
   "metadata": {},
   "source": [
    "# keys and tokens from the Twitter Dev Console "
   ]
  },
  {
   "cell_type": "code",
   "execution_count": 3,
   "metadata": {},
   "outputs": [],
   "source": [
    "consumer_key = '6N512kgelH2bKLkcLtAlSAXbE'\n",
    "consumer_secret = 'GpSauM18nI9GXcAjRMBKwI95b9KWkENRYZNOQAEENS0fNnpBYq'"
   ]
  },
  {
   "cell_type": "code",
   "execution_count": 4,
   "metadata": {},
   "outputs": [],
   "source": [
    "access_token = '1157742068594368513-xUQLTeJduiPhTMqupSkuuU4L42sJcH'\n",
    "access_token_secret = '5mbMLETCnNt3zK82jHlDcyRPFnEQ1KTJtc4ZAkDWURfjj'"
   ]
  },
  {
   "cell_type": "markdown",
   "metadata": {},
   "source": [
    "# create OAuthHandler object "
   ]
  },
  {
   "cell_type": "code",
   "execution_count": 5,
   "metadata": {},
   "outputs": [],
   "source": [
    "auth = tweepy.OAuthHandler(consumer_key, consumer_secret)"
   ]
  },
  {
   "cell_type": "markdown",
   "metadata": {},
   "source": [
    "# set access token and secret "
   ]
  },
  {
   "cell_type": "code",
   "execution_count": 6,
   "metadata": {},
   "outputs": [],
   "source": [
    "auth.set_access_token(access_token, access_token_secret)"
   ]
  },
  {
   "cell_type": "markdown",
   "metadata": {},
   "source": [
    "# create tweepy API object to fetch tweets"
   ]
  },
  {
   "cell_type": "code",
   "execution_count": 7,
   "metadata": {},
   "outputs": [],
   "source": [
    "api = tweepy.API(auth)"
   ]
  },
  {
   "cell_type": "code",
   "execution_count": 8,
   "metadata": {},
   "outputs": [],
   "source": [
    "public_tweets = api.search('trump')"
   ]
  },
  {
   "cell_type": "code",
   "execution_count": 9,
   "metadata": {},
   "outputs": [
    {
     "name": "stdout",
     "output_type": "stream",
     "text": [
      "RT @LaylaAlisha11: Listen to this DEMOCRAT in #SouthCarolina mock the fact that Black Babies are killed at much higher rate than White Babi…\n",
      "Sentiment(polarity=-0.029166666666666674, subjectivity=0.23333333333333334)\n",
      "RT @shossy2: Russian state media have been so sure of tRump's re-election with Bernie's help that they're speechless after Biden's big win…\n",
      "Sentiment(polarity=0.16666666666666666, subjectivity=0.3296296296296296)\n",
      "RT @RTDSchapiro: JUST IN: Ex-US Sen. John Warner, five-term #Va Republican who backed @HillaryClinton over @realDonaldTrump in ‘16, breaks…\n",
      "Sentiment(polarity=0.0, subjectivity=0.0)\n",
      "RT @LRBitisnot: “Pentagon Audit Shows $10 Trillion Unaccounted For, as Trump Attacks Sanders on ‘Socialism’\"\n",
      "\n",
      "@SoapboxieSite \n",
      "https://t.co/…\n",
      "Sentiment(polarity=0.0, subjectivity=0.0)\n",
      "RT @PalmerReport: Donald Trump's day so far:\n",
      "\n",
      "- Berserk meltdown about Mike Bloomberg\n",
      "- Misspells \"Bloomberg\"\n",
      "- Does Trump not know that Jo…\n",
      "Sentiment(polarity=0.1, subjectivity=1.0)\n",
      "RT @allantercalivre: Bolsonaro não está sozinho. Trump não está sozinho. Está chegando o reforço: @tercalivre, @TPUSA, @Project_Veritas, @L…\n",
      "Sentiment(polarity=0.0, subjectivity=0.0)\n",
      "RT @johncardillo: This is how security guards at ⁦@vawesleyan⁩ University treat Trump supporters peacefully walking through campus. \n",
      "\n",
      "No re…\n",
      "Sentiment(polarity=0.25, subjectivity=0.5)\n",
      "RT @aking4democracy: trump dismantled the Pandemic Response Team to own the libs\n",
      "Sentiment(polarity=0.6, subjectivity=1.0)\n",
      "RT @ScottPresler: @MittRomney Thank you, President Trump, for your leadership.\n",
      "Sentiment(polarity=0.0, subjectivity=0.0)\n",
      "RT @DeepStateExpose: RT! \"Democratic\" Socialist Security guard at ⁦VA Wesleyan⁩ University tackles Trump supporter for no reason!!!\n",
      " https:…\n",
      "Sentiment(polarity=0.0, subjectivity=0.0)\n",
      "RT @jilevin: Is The Border Patrol Accountable to Anyone? https://t.co/CxfzoLg8e1\n",
      "Sentiment(polarity=0.0, subjectivity=0.0)\n",
      "RT @CNN: Violent communal clashes killed dozens in New Delhi during President Trump’s visit to India.\n",
      "“All this was happening at the same t…\n",
      "Sentiment(polarity=-0.2159090909090909, subjectivity=0.39488636363636365)\n",
      "RT @SexCounseling: @DineshDSouza I agree with you Dinesh we have become the Trump Republican, an entire new breed.  \n",
      "\n",
      "We are on the offense…\n",
      "Sentiment(polarity=0.06818181818181818, subjectivity=0.5397727272727273)\n",
      "RT @RepAdamSchiff: Trump is trying to roll back discrimination protections for LGBTQ people under the guise of religious liberty.\n",
      "\n",
      "This wou…\n",
      "Sentiment(polarity=0.0, subjectivity=0.125)\n",
      "RT @repmorgan: Ince in a blue moon, even Democrats shock us when their immorality reaches a new low. This is one of those instances. Democr…\n",
      "Sentiment(polarity=0.04545454545454545, subjectivity=0.28484848484848485)\n"
     ]
    }
   ],
   "source": [
    "for tweet in public_tweets:\n",
    "    print(tweet.text)\n",
    "    analysis = tb.TextBlob(tweet.text)\n",
    "    print(analysis.sentiment)"
   ]
  },
  {
   "cell_type": "code",
   "execution_count": 10,
   "metadata": {},
   "outputs": [],
   "source": [
    "import tweepy \n",
    "from tweepy import OAuthHandler \n",
    "from textblob import TextBlob "
   ]
  },
  {
   "cell_type": "code",
   "execution_count": 11,
   "metadata": {},
   "outputs": [],
   "source": [
    "consumer_key = '6N512kgelH2bKLkcLtAlSAXbE'\n",
    "consumer_secret = 'GpSauM18nI9GXcAjRMBKwI95b9KWkENRYZNOQAEENS0fNnpBYq'\n",
    "access_token = '1157742068594368513-xUQLTeJduiPhTMqupSkuuU4L42sJcH'\n",
    "access_token_secret = '5mbMLETCnNt3zK82jHlDcyRPFnEQ1KTJtc4ZAkDWURfjj'"
   ]
  },
  {
   "cell_type": "code",
   "execution_count": 12,
   "metadata": {},
   "outputs": [],
   "source": [
    "#create OAuthHandler object \n",
    "auth = OAuthHandler(consumer_key, consumer_secret) \n",
    "#set access token and secret \n",
    "auth.set_access_token(access_token, access_token_secret) \n",
    "#create tweepy API object to fetch tweets \n",
    "api = tweepy.API(auth) "
   ]
  },
  {
   "cell_type": "code",
   "execution_count": 13,
   "metadata": {},
   "outputs": [],
   "source": [
    "def get_tweet_sentiment(tweet): \n",
    "        \n",
    "        # create TextBlob object of passed tweet text \n",
    "        analysis = TextBlob(tweet)\n",
    "        # set sentiment \n",
    "        if analysis.sentiment.polarity > 0: \n",
    "            return 'positive'\n",
    "        elif analysis.sentiment.polarity == 0: \n",
    "            return 'neutral'\n",
    "        else: \n",
    "            return 'negative'"
   ]
  },
  {
   "cell_type": "code",
   "execution_count": 14,
   "metadata": {},
   "outputs": [],
   "source": [
    "def get_tweets(query, count = 10000): \n",
    "    tweets = [] \n",
    "    fetched_tweets = api.search(q = query, count = count) \n",
    "  \n",
    "    # parsing tweets one by one \n",
    "    for tweet in fetched_tweets: \n",
    "        # empty dictionary\n",
    "        parsed_tweet = {} \n",
    "  \n",
    "        # saving text of tweet \n",
    "        parsed_tweet['text'] = tweet.text \n",
    "        # saving sentiment of tweet \n",
    "        parsed_tweet['sentiment'] = get_tweet_sentiment(tweet.text) \n",
    "  \n",
    "        # appending parsed tweet to tweets list \n",
    "        if tweet.retweet_count > 100: \n",
    "            # if tweet has retweets, ensure that it is appended only once \n",
    "            if parsed_tweet not in tweets: \n",
    "                tweets.append(parsed_tweet) \n",
    "            else: \n",
    "                tweets.append(parsed_tweet) \n",
    "  \n",
    "    # return parsed tweets \n",
    "    return tweets "
   ]
  },
  {
   "cell_type": "code",
   "execution_count": 15,
   "metadata": {},
   "outputs": [],
   "source": [
    "tweets = get_tweets(query = 'modi', count = 1000)"
   ]
  },
  {
   "cell_type": "code",
   "execution_count": 16,
   "metadata": {},
   "outputs": [],
   "source": [
    "ptweets = []\n",
    "for tweet in tweets:\n",
    "    if tweet['sentiment'] == 'positive':\n",
    "        ptweets.append(tweet)"
   ]
  },
  {
   "cell_type": "code",
   "execution_count": 17,
   "metadata": {},
   "outputs": [],
   "source": [
    "ntweets = []\n",
    "for tweet in tweets:\n",
    "    if tweet['sentiment'] == 'negative':\n",
    "        ntweets.append(tweet)"
   ]
  },
  {
   "cell_type": "code",
   "execution_count": 18,
   "metadata": {},
   "outputs": [
    {
     "name": "stdout",
     "output_type": "stream",
     "text": [
      "Positive tweets percentage: 16.666666666666668\n"
     ]
    }
   ],
   "source": [
    "#percentage of positive tweets \n",
    "print(\"Positive tweets percentage:\", 100*len(ptweets)/len(tweets))"
   ]
  },
  {
   "cell_type": "code",
   "execution_count": 19,
   "metadata": {},
   "outputs": [
    {
     "name": "stdout",
     "output_type": "stream",
     "text": [
      "Negative tweets percentage: 45.833333333333336\n"
     ]
    }
   ],
   "source": [
    "#percentage of negative tweets \n",
    "print(\"Negative tweets percentage:\", 100*len(ntweets)/len(tweets)) "
   ]
  },
  {
   "cell_type": "code",
   "execution_count": 20,
   "metadata": {},
   "outputs": [
    {
     "name": "stdout",
     "output_type": "stream",
     "text": [
      "\n",
      "\n",
      "Positive tweets:\n",
      "RT @Polytikle: This is not Delhi, It's AKBARPURA Village of Gujarat.\n",
      "\n",
      "While Modi was busy bootlicking his Master Trump in Motera, H!NDU JAG…\n",
      "RT @KhaledBeydoun: Bernie has the most humanitarian foreign policy: \n",
      "\n",
      "- He called out Modi and #India’s mistreatment of Muslims \n",
      "\n",
      "- He cond…\n",
      "RT @ShekharGupta: Why they world needs women leaders because alpha males such as Modi and Trump, high on nationalism and machismo, lack the…\n",
      "RT @NAN_DINI_: Now this has gone too far !!!\n",
      "It cannot be ignored as simply malicious reporting when it’s obvious they have a devious agend…\n",
      "RT @Payal_Rohatgi: Ram Ram ji 🙏 Sonam Aunty wants to contribute to @scroll_in which is Anti-Modi Nd Anti-India mostly so now do the maths 🤣…\n",
      "\n",
      "\n",
      "Negative tweets:\n",
      "RT @SikhProf: Trump and Modi are a pair of hateful puppets. They’re also narcissistic strongmen who bring out the worst within us.\n",
      "\n",
      "No wond…\n",
      "RT @AbdulHamidAhmad: Narendra Modi and Amit Shah harvest hate in India: The bumper crop is blood  https://t.co/WsVvYLB6Yj\n",
      "RT @AbdulHamidAhmad: Narendra Modi and Amit Shah harvest hate in India: The bumper crop is blood  https://t.co/WsVvYLB6Yj\n",
      "RT @CNN: Violent communal clashes killed dozens in New Delhi during President Trump’s visit to India.\n",
      "“All this was happening at the same t…\n",
      "RT @SikhProf: Trump and Modi are a pair of hateful puppets. They’re also narcissistic strongmen who bring out the worst within us.\n",
      "\n",
      "No wond…\n"
     ]
    }
   ],
   "source": [
    "#printing first 5 positive tweets \n",
    "print(\"\\n\\nPositive tweets:\") \n",
    "for tweet in ptweets[:5]: \n",
    "    print(tweet['text']) \n",
    "#printing first 5 negative tweets \n",
    "print(\"\\n\\nNegative tweets:\") \n",
    "for tweet in ntweets[:5]: \n",
    "    print(tweet['text']) "
   ]
  },
  {
   "cell_type": "markdown",
   "metadata": {},
   "source": [
    "# Printing famous tweets "
   ]
  },
  {
   "cell_type": "code",
   "execution_count": 21,
   "metadata": {},
   "outputs": [
    {
     "name": "stdout",
     "output_type": "stream",
     "text": [
      "1221552460768202756\n",
      "Kobe was a legend on the court and just getting started in what would have been just as meaningful a second act. To… https://t.co/YlRRr9ng7Q\n",
      "4141520\n",
      "1218174463046553600\n",
      "In every scene, you are my star, @MichelleObama! Happy birthday, baby! https://t.co/hgMBhHasBj\n",
      "2809971\n"
     ]
    }
   ],
   "source": [
    "name = \"barackobama\"\n",
    "tweetCount = 100000\n",
    "\n",
    "results = api.user_timeline(id=name, count=tweetCount)\n",
    "user_id = api.get_user(name)\n",
    "\n",
    "for tweet in results:\n",
    "    if tweet.favorite_count > 1000000:\n",
    "        \n",
    "        print(tweet.id)\n",
    "        print(tweet.text)\n",
    "        print(tweet.favorite_count)"
   ]
  },
  {
   "cell_type": "code",
   "execution_count": 22,
   "metadata": {},
   "outputs": [],
   "source": [
    "def analysis(query):\n",
    "    tweets = get_tweets(query, count = 1000)\n",
    "    ptweets = []\n",
    "    for tweet in tweets:\n",
    "        if tweet['sentiment'] == 'positive':\n",
    "            ptweets.append(tweet)\n",
    "    ntweets = []\n",
    "    for tweet in tweets:\n",
    "        if tweet['sentiment'] == 'negative':\n",
    "            ntweets.append(tweet)\n",
    "    #percentage of positive tweets \n",
    "    print(\"Positive tweets percentage:\", 100*len(ptweets)/len(tweets))\n",
    "    #percentage of negative tweets \n",
    "    print(\"Negative tweets percentage:\", 100*len(ntweets)/len(tweets)) \n",
    "    if(100*len(ptweets)/len(tweets) > 100*len(ntweets)/len(tweets)):\n",
    "        print(\"Analysis: Positive\")\n",
    "    else:\n",
    "        print(\"Analysis: Negative\")"
   ]
  },
  {
   "cell_type": "code",
   "execution_count": 23,
   "metadata": {},
   "outputs": [
    {
     "name": "stdout",
     "output_type": "stream",
     "text": [
      "Positive tweets percentage: 45.6140350877193\n",
      "Negative tweets percentage: 17.54385964912281\n",
      "Analysis: Positive\n"
     ]
    }
   ],
   "source": [
    "analysis(\"trump\")"
   ]
  },
  {
   "cell_type": "code",
   "execution_count": 24,
   "metadata": {},
   "outputs": [
    {
     "name": "stdout",
     "output_type": "stream",
     "text": [
      "Positive tweets percentage: 18.181818181818183\n",
      "Negative tweets percentage: 36.36363636363637\n",
      "Analysis: Negative\n"
     ]
    }
   ],
   "source": [
    "analysis(\"\")\n",
    "\n"
   ]
  },
  {
   "cell_type": "code",
   "execution_count": null,
   "metadata": {},
   "outputs": [],
   "source": []
  }
 ],
 "metadata": {
  "kernelspec": {
   "display_name": "Python 3",
   "language": "python",
   "name": "python3"
  },
  "language_info": {
   "codemirror_mode": {
    "name": "ipython",
    "version": 3
   },
   "file_extension": ".py",
   "mimetype": "text/x-python",
   "name": "python",
   "nbconvert_exporter": "python",
   "pygments_lexer": "ipython3",
   "version": "3.7.4"
  }
 },
 "nbformat": 4,
 "nbformat_minor": 2
}
